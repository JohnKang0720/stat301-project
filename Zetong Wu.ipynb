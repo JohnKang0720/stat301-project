{
 "cells": [
  {
   "cell_type": "code",
   "execution_count": 1,
   "id": "74337519-96dc-457e-ad27-43a89683c397",
   "metadata": {},
   "outputs": [
    {
     "name": "stderr",
     "output_type": "stream",
     "text": [
      "\n",
      "Attaching package: 'modelr'\n",
      "\n",
      "\n",
      "The following object is masked from 'package:broom':\n",
      "\n",
      "    bootstrap\n",
      "\n",
      "\n",
      "── \u001b[1mAttaching core tidyverse packages\u001b[22m ──────────────────────────────────────────────────────────────── tidyverse 2.0.0 ──\n",
      "\u001b[32m✔\u001b[39m \u001b[34mdplyr    \u001b[39m 1.1.4     \u001b[32m✔\u001b[39m \u001b[34mreadr    \u001b[39m 2.1.5\n",
      "\u001b[32m✔\u001b[39m \u001b[34mforcats  \u001b[39m 1.0.0     \u001b[32m✔\u001b[39m \u001b[34mstringr  \u001b[39m 1.5.1\n",
      "\u001b[32m✔\u001b[39m \u001b[34mggplot2  \u001b[39m 3.5.1     \u001b[32m✔\u001b[39m \u001b[34mtibble   \u001b[39m 3.2.1\n",
      "\u001b[32m✔\u001b[39m \u001b[34mlubridate\u001b[39m 1.9.3     \u001b[32m✔\u001b[39m \u001b[34mtidyr    \u001b[39m 1.3.1\n",
      "\u001b[32m✔\u001b[39m \u001b[34mpurrr    \u001b[39m 1.0.2     \n",
      "── \u001b[1mConflicts\u001b[22m ────────────────────────────────────────────────────────────────────────────────── tidyverse_conflicts() ──\n",
      "\u001b[31m✖\u001b[39m \u001b[34mmodelr\u001b[39m::\u001b[32mbootstrap()\u001b[39m masks \u001b[34mbroom\u001b[39m::bootstrap()\n",
      "\u001b[31m✖\u001b[39m \u001b[34mdplyr\u001b[39m::\u001b[32mfilter()\u001b[39m     masks \u001b[34mstats\u001b[39m::filter()\n",
      "\u001b[31m✖\u001b[39m \u001b[34mdplyr\u001b[39m::\u001b[32mlag()\u001b[39m        masks \u001b[34mstats\u001b[39m::lag()\n",
      "\u001b[36mℹ\u001b[39m Use the conflicted package (\u001b[3m\u001b[34m<http://conflicted.r-lib.org/>\u001b[39m\u001b[23m) to force all conflicts to become errors\n",
      "Loading required package: Matrix\n",
      "\n",
      "\n",
      "Attaching package: 'Matrix'\n",
      "\n",
      "\n",
      "The following objects are masked from 'package:tidyr':\n",
      "\n",
      "    expand, pack, unpack\n",
      "\n",
      "\n",
      "Loaded glmnet 4.1-8\n",
      "\n"
     ]
    }
   ],
   "source": [
    "library(broom)\n",
    "library(repr)\n",
    "library(modelr)\n",
    "library(tidyverse)\n",
    "library(ggplot2)\n",
    "library(glmnet)\n",
    "library(rsample)"
   ]
  },
  {
   "cell_type": "markdown",
   "id": "61de8c59-a8a7-454d-b585-722c54b2c90c",
   "metadata": {},
   "source": [
    "## Data Desciption"
   ]
  },
  {
   "cell_type": "markdown",
   "id": "ba60de0c-ddd8-491d-b3b0-3728bea3a60b",
   "metadata": {},
   "source": [
    "The dataset comprises 607 records detailing salary information for various data science roles, collected across different years, with a focus on 2020 onward. The **work_year** variable captures the specific year in which each salary was recorded. Each job entry is categorized by the **experience_level** of the individual, coded as abbreviations like MI (Mid-Level) and SE (Senior), allowing us to understand the correlation between experience and salary."
   ]
  },
  {
   "cell_type": "markdown",
   "id": "87d6c2a1-7800-4f1a-a874-e57afc0da948",
   "metadata": {},
   "source": [
    "The dataset includes **employment_type**, specifying the nature of employment, with entries like FT for full-time roles, which could help in analyzing how job type impacts salary. The **job_title** variable provides a specific role description, such as \"Data Scientist\" or \"Machine Learning Engineer,\" giving insight into role-based salary differences."
   ]
  },
  {
   "cell_type": "markdown",
   "id": "8ef7951c-fffd-432d-ae8b-1f50b21c3622",
   "metadata": {},
   "source": [
    "Salaries are reported in their local currency through the **salary_currency** variable, along with a standardized **salary_in_usd** column, which provides a uniform comparison metric across records. **Employee_residence** indicates the country where the individual resides, while **company_location** points to the country where the company operates, allowing a comparison of salary differences across geographic locations and international hiring trends."
   ]
  },
  {
   "cell_type": "markdown",
   "id": "c15f7474-cc72-45a8-984b-acc7f0ded2e9",
   "metadata": {},
   "source": [
    "Another key feature is **remote_ratio**, which shows the percentage of time an employee works remotely, ranging from 0% (fully on-site) to 100% (fully remote). This can reveal trends in remote work adoption in the data science field and its potential impact on salary. Lastly, **company_size** categorizes employers as Small (S), Medium (M), or Large (L), providing insights into how company size might influence salary levels."
   ]
  },
  {
   "cell_type": "markdown",
   "id": "725e6414-1c87-4cd6-9ffe-c861d58999e3",
   "metadata": {},
   "source": [
    "## Question"
   ]
  },
  {
   "cell_type": "markdown",
   "id": "60569f06-4f8e-4a98-bf10-1b79b689172f",
   "metadata": {},
   "source": [
    "Can we predict the annual salary (in USD) of a data science professional based on their job title, company location, and remote work ratio?"
   ]
  },
  {
   "cell_type": "markdown",
   "id": "171adfb1-0c44-4986-ba8c-fb9c850d1b40",
   "metadata": {},
   "source": [
    "Response Variable = salary_in_usd  \n",
    "Explanatory Variables = job_title, company_location, and remote_ratio"
   ]
  },
  {
   "cell_type": "markdown",
   "id": "4c9c669f-0c1e-468d-8b25-0b85cbaa6697",
   "metadata": {},
   "source": [
    "This question is focused solely on **prediction**. I am not looking to understand the underlying causes or relationships between these variables and salary but simply want to develop a model that can accurately estimate a data science professional’s salary based on their job title, company location, and work arrangement."
   ]
  },
  {
   "cell_type": "markdown",
   "id": "1f892907-3a0e-4480-8702-81f9fdc51ce6",
   "metadata": {},
   "source": [
    "## How Data Will Help"
   ]
  },
  {
   "cell_type": "markdown",
   "id": "f5201178-1380-4be2-ac06-5dc95ed18069",
   "metadata": {},
   "source": [
    "The dataset includes specific information on job titles, company locations, and remote work ratios, which are useful predictors for estimating salaries. By training a predictive model on these variables, I can create a tool that estimates expected salaries based on these inputs. This can help job seekers or companies to predict salaries without needing to know details like experience level or employment type."
   ]
  },
  {
   "cell_type": "markdown",
   "id": "7092a10b-ebcc-483b-ae5d-2cd4a43ca6c8",
   "metadata": {},
   "source": [
    "## Exploratory Data Analysis and Visualization"
   ]
  },
  {
   "cell_type": "code",
   "execution_count": 2,
   "id": "765ee465-1e07-4166-80ed-fa7298446fe6",
   "metadata": {},
   "outputs": [
    {
     "data": {
      "text/html": [
       "<table class=\"dataframe\">\n",
       "<caption>A data.frame: 6 × 12</caption>\n",
       "<thead>\n",
       "\t<tr><th></th><th scope=col>X</th><th scope=col>work_year</th><th scope=col>experience_level</th><th scope=col>employment_type</th><th scope=col>job_title</th><th scope=col>salary</th><th scope=col>salary_currency</th><th scope=col>salary_in_usd</th><th scope=col>employee_residence</th><th scope=col>remote_ratio</th><th scope=col>company_location</th><th scope=col>company_size</th></tr>\n",
       "\t<tr><th></th><th scope=col>&lt;int&gt;</th><th scope=col>&lt;int&gt;</th><th scope=col>&lt;chr&gt;</th><th scope=col>&lt;chr&gt;</th><th scope=col>&lt;chr&gt;</th><th scope=col>&lt;int&gt;</th><th scope=col>&lt;chr&gt;</th><th scope=col>&lt;int&gt;</th><th scope=col>&lt;chr&gt;</th><th scope=col>&lt;int&gt;</th><th scope=col>&lt;chr&gt;</th><th scope=col>&lt;chr&gt;</th></tr>\n",
       "</thead>\n",
       "<tbody>\n",
       "\t<tr><th scope=row>1</th><td>0</td><td>2020</td><td>MI</td><td>FT</td><td>Data Scientist            </td><td> 70000</td><td>EUR</td><td> 79833</td><td>DE</td><td>  0</td><td>DE</td><td>L</td></tr>\n",
       "\t<tr><th scope=row>2</th><td>1</td><td>2020</td><td>SE</td><td>FT</td><td>Machine Learning Scientist</td><td>260000</td><td>USD</td><td>260000</td><td>JP</td><td>  0</td><td>JP</td><td>S</td></tr>\n",
       "\t<tr><th scope=row>3</th><td>2</td><td>2020</td><td>SE</td><td>FT</td><td>Big Data Engineer         </td><td> 85000</td><td>GBP</td><td>109024</td><td>GB</td><td> 50</td><td>GB</td><td>M</td></tr>\n",
       "\t<tr><th scope=row>4</th><td>3</td><td>2020</td><td>MI</td><td>FT</td><td>Product Data Analyst      </td><td> 20000</td><td>USD</td><td> 20000</td><td>HN</td><td>  0</td><td>HN</td><td>S</td></tr>\n",
       "\t<tr><th scope=row>5</th><td>4</td><td>2020</td><td>SE</td><td>FT</td><td>Machine Learning Engineer </td><td>150000</td><td>USD</td><td>150000</td><td>US</td><td> 50</td><td>US</td><td>L</td></tr>\n",
       "\t<tr><th scope=row>6</th><td>5</td><td>2020</td><td>EN</td><td>FT</td><td>Data Analyst              </td><td> 72000</td><td>USD</td><td> 72000</td><td>US</td><td>100</td><td>US</td><td>L</td></tr>\n",
       "</tbody>\n",
       "</table>\n"
      ],
      "text/latex": [
       "A data.frame: 6 × 12\n",
       "\\begin{tabular}{r|llllllllllll}\n",
       "  & X & work\\_year & experience\\_level & employment\\_type & job\\_title & salary & salary\\_currency & salary\\_in\\_usd & employee\\_residence & remote\\_ratio & company\\_location & company\\_size\\\\\n",
       "  & <int> & <int> & <chr> & <chr> & <chr> & <int> & <chr> & <int> & <chr> & <int> & <chr> & <chr>\\\\\n",
       "\\hline\n",
       "\t1 & 0 & 2020 & MI & FT & Data Scientist             &  70000 & EUR &  79833 & DE &   0 & DE & L\\\\\n",
       "\t2 & 1 & 2020 & SE & FT & Machine Learning Scientist & 260000 & USD & 260000 & JP &   0 & JP & S\\\\\n",
       "\t3 & 2 & 2020 & SE & FT & Big Data Engineer          &  85000 & GBP & 109024 & GB &  50 & GB & M\\\\\n",
       "\t4 & 3 & 2020 & MI & FT & Product Data Analyst       &  20000 & USD &  20000 & HN &   0 & HN & S\\\\\n",
       "\t5 & 4 & 2020 & SE & FT & Machine Learning Engineer  & 150000 & USD & 150000 & US &  50 & US & L\\\\\n",
       "\t6 & 5 & 2020 & EN & FT & Data Analyst               &  72000 & USD &  72000 & US & 100 & US & L\\\\\n",
       "\\end{tabular}\n"
      ],
      "text/markdown": [
       "\n",
       "A data.frame: 6 × 12\n",
       "\n",
       "| <!--/--> | X &lt;int&gt; | work_year &lt;int&gt; | experience_level &lt;chr&gt; | employment_type &lt;chr&gt; | job_title &lt;chr&gt; | salary &lt;int&gt; | salary_currency &lt;chr&gt; | salary_in_usd &lt;int&gt; | employee_residence &lt;chr&gt; | remote_ratio &lt;int&gt; | company_location &lt;chr&gt; | company_size &lt;chr&gt; |\n",
       "|---|---|---|---|---|---|---|---|---|---|---|---|---|\n",
       "| 1 | 0 | 2020 | MI | FT | Data Scientist             |  70000 | EUR |  79833 | DE |   0 | DE | L |\n",
       "| 2 | 1 | 2020 | SE | FT | Machine Learning Scientist | 260000 | USD | 260000 | JP |   0 | JP | S |\n",
       "| 3 | 2 | 2020 | SE | FT | Big Data Engineer          |  85000 | GBP | 109024 | GB |  50 | GB | M |\n",
       "| 4 | 3 | 2020 | MI | FT | Product Data Analyst       |  20000 | USD |  20000 | HN |   0 | HN | S |\n",
       "| 5 | 4 | 2020 | SE | FT | Machine Learning Engineer  | 150000 | USD | 150000 | US |  50 | US | L |\n",
       "| 6 | 5 | 2020 | EN | FT | Data Analyst               |  72000 | USD |  72000 | US | 100 | US | L |\n",
       "\n"
      ],
      "text/plain": [
       "  X work_year experience_level employment_type job_title                 \n",
       "1 0 2020      MI               FT              Data Scientist            \n",
       "2 1 2020      SE               FT              Machine Learning Scientist\n",
       "3 2 2020      SE               FT              Big Data Engineer         \n",
       "4 3 2020      MI               FT              Product Data Analyst      \n",
       "5 4 2020      SE               FT              Machine Learning Engineer \n",
       "6 5 2020      EN               FT              Data Analyst              \n",
       "  salary salary_currency salary_in_usd employee_residence remote_ratio\n",
       "1  70000 EUR              79833        DE                   0         \n",
       "2 260000 USD             260000        JP                   0         \n",
       "3  85000 GBP             109024        GB                  50         \n",
       "4  20000 USD              20000        HN                   0         \n",
       "5 150000 USD             150000        US                  50         \n",
       "6  72000 USD              72000        US                 100         \n",
       "  company_location company_size\n",
       "1 DE               L           \n",
       "2 JP               S           \n",
       "3 GB               M           \n",
       "4 HN               S           \n",
       "5 US               L           \n",
       "6 US               L           "
      ]
     },
     "metadata": {},
     "output_type": "display_data"
    }
   ],
   "source": [
    "ds_salaries = read.csv(\"data/ds_salaries.csv\")\n",
    "head(ds_salaries)"
   ]
  },
  {
   "cell_type": "markdown",
   "id": "cba87825-c074-4545-845c-a7a4b9bfbaa7",
   "metadata": {},
   "source": [
    "Removing any irrelevant columns, such as X, which appears to be an index.  \n",
    "Ensuring that all categorical variables are correctly converted to factors or categorical types.  \n",
    "Checking for any missing values and deciding on an appropriate imputation or removal strategy if there are any."
   ]
  },
  {
   "cell_type": "markdown",
   "id": "3becad84-7a53-4989-8fef-a284b0f5a06c",
   "metadata": {},
   "source": [
    "**Plot**"
   ]
  },
  {
   "cell_type": "markdown",
   "id": "bc400fd6-a64d-4ea7-b294-7634b7492c2a",
   "metadata": {},
   "source": [
    "To address the question of how experience level, employment type, and remote work ratio affect salaries, I propose creating a box plot of salaries by experience level and employment type. This visualization will allow us to see the salary distribution within each experience level and employment type category, providing insights into the typical salary ranges for different levels.  \n",
    "Additionally, a scatter plot of salary against remote work ratio can help explore if there's any trend between remote work percentage and salary. A regression line might also be added to observe any linear trend."
   ]
  },
  {
   "cell_type": "markdown",
   "id": "17e07d5e-b84a-4e4c-8cc6-1a23f9662fe8",
   "metadata": {},
   "source": [
    "**Why**"
   ]
  },
  {
   "cell_type": "markdown",
   "id": "cd6beead-b8c2-40ef-8386-44f2cdceca2c",
   "metadata": {},
   "source": [
    "The box plot is relevant because it visually compares the distribution of salaries within each category, making it easier to spot variations across experience levels and employment types.  \n",
    "The scatter plot with remote work ratio helps assess if there's any correlation between remote work and salary, addressing one aspect of the question directly."
   ]
  },
  {
   "cell_type": "code",
   "execution_count": 3,
   "id": "1ecab2ca-832a-4f37-889b-c174939a947a",
   "metadata": {},
   "outputs": [
    {
     "data": {
      "image/png": "[encoded data removed]",
      "text/plain": [
       "plot without title"
      ]
     },
     "metadata": {
      "image/png": {
       "height": 420,
       "width": 420
      }
     },
     "output_type": "display_data"
    }
   ],
   "source": [
    "ggplot(ds_salaries, aes(x = experience_level, y = salary_in_usd, fill = employment_type)) +\n",
    "  geom_boxplot() +\n",
    "  labs(title = \"Salary Distribution by Experience Level and Employment Type\",\n",
    "       x = \"Experience Level\",\n",
    "       y = \"Salary in USD\") +\n",
    "  theme_minimal() +\n",
    "  scale_fill_discrete(name = \"Employment Type\")"
   ]
  },
  {
   "cell_type": "markdown",
   "id": "854c22fd-e8cd-487d-a495-c1252750c9d2",
   "metadata": {},
   "source": [
    "Executive (EX) level employees generally have higher salary distributions, particularly in full-time (FT) roles, where the median salary is considerably high. This trend suggests that experience level significantly impacts salary, with executives earning more than mid-level and junior employees.  \n",
    "Entry (EN) and Mid-Level (MI) employees show lower salary distributions across most employment types, indicating a correlation between lower experience and lower salary.  \n",
    "Part-time (PT) and freelance (FL) positions have a wider range in salaries at lower experience levels, suggesting variability in compensation for less traditional employment types."
   ]
  },
  {
   "cell_type": "code",
   "execution_count": 4,
   "id": "7695857b-260b-4a16-a15f-ff6757dc3c75",
   "metadata": {},
   "outputs": [
    {
     "data": {
      "image/png": "[encoded data removed]",
      "text/plain": [
       "plot without title"
      ]
     },
     "metadata": {
      "image/png": {
       "height": 420,
       "width": 420
      }
     },
     "output_type": "display_data"
    }
   ],
   "source": [
    "ggplot(ds_salaries, aes(x = remote_ratio, y = salary_in_usd, color = experience_level)) +\n",
    "  geom_point(alpha = 0.6) +\n",
    "  labs(title = \"Salary vs Remote Work Ratio by Experience Level\",\n",
    "       x = \"Remote Work Ratio (%)\",\n",
    "       y = \"Salary in USD\") +\n",
    "  theme_minimal() +\n",
    "  scale_color_discrete(name = \"Experience Level\")"
   ]
  },
  {
   "cell_type": "markdown",
   "id": "74c05be4-1dc4-4a6a-84c1-528f8232e3c3",
   "metadata": {},
   "source": [
    "There is no clear upward or downward trend between salary and remote work ratio across experience levels, suggesting that remote work does not strongly impact salary. Data points are scattered across the remote work spectrum (0%, 50%, 100%) with similar salary distributions.  \n",
    "Executive level salaries appear consistently high across all remote ratios, while Entry (EN) and Mid-Level (MI) salaries tend to be lower across the board, regardless of remote work percentage."
   ]
  },
  {
   "cell_type": "markdown",
   "id": "ce7f8dcc-d0a9-4b3b-be42-8dbc8e422e07",
   "metadata": {},
   "source": [
    "# Methods and Plan"
   ]
  },
  {
   "cell_type": "markdown",
   "id": "57b32284-1db7-482f-8953-4b0a9bd253af",
   "metadata": {},
   "source": [
    "To address the research question of how job title, company location, and remote work ratio affect salary levels, I propose using a multiple linear regression model. This approach is suitable because the dependent variable, salary, is continuous, and the explanatory variables are a mix of categorical (job title, company location) and continuous (remote work ratio) variables."
   ]
  },
  {
   "cell_type": "markdown",
   "id": "813800e2-3ef0-465a-946a-e9c5853b86f4",
   "metadata": {},
   "source": [
    "**Why is this method appropriate**"
   ]
  },
  {
   "cell_type": "markdown",
   "id": "4c34121c-8d63-4132-9e04-fb4723d39648",
   "metadata": {},
   "source": [
    "Linear regression is widely used for analyzing relationships between a dependent variable and multiple independent variables, making it ideal for understanding the contributions of job title, company location, and remote work ratio to salary levels.  \n",
    "The model's coefficients will quantify the effect of each explanatory variable on the salary, allowing us to interpret the relative importance of each factor.  \n",
    "Interaction effects can also be explored, such as the interaction between remote work ratio and company location, to capture nuanced patterns in salary variations."
   ]
  },
  {
   "cell_type": "markdown",
   "id": "caf74d64-1cd3-4ce5-9f44-8ed138803328",
   "metadata": {},
   "source": [
    "**Assumptions Required**"
   ]
  },
  {
   "cell_type": "markdown",
   "id": "409f1fa9-3c39-4799-95bb-92bc65406ca1",
   "metadata": {},
   "source": [
    "1. Linearity: The relationship between the dependent variable (salary) and the explanatory variables must be linear.\n",
    "2. Independence: Observations in the dataset should be independent of each other.\n",
    "3. Homoscedasticity: The variance of residuals should be constant across levels of the explanatory variables.\n",
    "4. Normality: The residuals of the model should follow a normal distribution.\n",
    "5. Multicollinearity: Explanatory variables should not be highly correlated with each other."
   ]
  },
  {
   "cell_type": "markdown",
   "id": "bc251219-162c-4563-9722-06cb3fb37950",
   "metadata": {},
   "source": [
    "**Potential Limitations or Weaknesses**"
   ]
  },
  {
   "cell_type": "markdown",
   "id": "ef6272c9-2d50-4842-94a2-3e7d4c67df98",
   "metadata": {},
   "source": [
    "1. Data Imbalance: If certain job titles or company locations are underrepresented, the model may struggle to generalize for those categories.\n",
    "2. Unobserved Variables: Factors such as company size, industry, or individual skills are not included in the model but could significantly influence salary levels.\n",
    "3. Non-Linearity: Some relationships (e.g., between remote work ratio and salary) may not be purely linear, potentially requiring transformation or alternative models.\n",
    "4. Categorical Encoding: Handling high cardinality in variables like job title or company location might introduce complexity, requiring techniques like dummy encoding or grouping similar categories.\n",
    "5. Currency Conversion: If salaries are in different currencies, inconsistent or outdated exchange rates might affect the accuracy of the analysis."
   ]
  },
  {
   "cell_type": "markdown",
   "id": "1302baee-d1ff-4345-826f-bbe95192fa87",
   "metadata": {},
   "source": [
    "# Implementation of a proposed model"
   ]
  },
  {
   "cell_type": "code",
   "execution_count": 5,
   "id": "614cea44-973a-4451-bc94-7a238ccc880a",
   "metadata": {},
   "outputs": [],
   "source": [
    "job_title <- as.factor(ds_salaries$job_title)\n",
    "company_location <- as.factor(ds_salaries$company_location)"
   ]
  },
  {
   "cell_type": "code",
   "execution_count": 6,
   "id": "4c9de465-57f7-40d3-a0cb-1771496d55fb",
   "metadata": {},
   "outputs": [],
   "source": [
    "model <- lm(salary ~ job_title + company_location + remote_ratio, data = ds_salaries)"
   ]
  },
  {
   "cell_type": "code",
   "execution_count": 7,
   "id": "044bce4d-2e55-4646-a2ee-fee28e16dbed",
   "metadata": {},
   "outputs": [
    {
     "data": {
      "text/plain": [
       "\n",
       "Call:\n",
       "lm(formula = salary ~ job_title + company_location + remote_ratio, \n",
       "    data = ds_salaries)\n",
       "\n",
       "Residuals:\n",
       "     Min       1Q   Median       3Q      Max \n",
       "-2814571   -33375     1932    42590  8713279 \n",
       "\n",
       "Coefficients:\n",
       "                                                    Estimate Std. Error t value\n",
       "(Intercept)                                       -1591216.9   762646.1  -2.086\n",
       "job_titleAI Scientist                              1604857.2   709669.3   2.261\n",
       "job_titleAnalytics Engineer                        1663125.8   728078.7   2.284\n",
       "job_titleApplied Data Scientist                    1685845.2   714108.9   2.361\n",
       "job_titleApplied Machine Learning Scientist        1688131.7   738280.2   2.287\n",
       "job_titleBI Data Analyst                           3774847.1   713920.1   5.287\n",
       "job_titleBig Data Architect                        1595390.4   922500.0   1.729\n",
       "job_titleBig Data Engineer                         1453648.5   699695.2   2.078\n",
       "job_titleBusiness Data Analyst                     1490121.5   712700.0   2.091\n",
       "job_titleCloud Data Engineer                       1678732.3   913688.0   1.837\n",
       "job_titleComputer Vision Engineer                  1573235.3   731243.8   2.151\n",
       "job_titleComputer Vision Software Engineer         1610377.7   761782.5   2.114\n",
       "job_titleData Analyst                              1591631.4   657316.4   2.421\n",
       "job_titleData Analytics Engineer                   1611291.2   735358.0   2.191\n",
       "job_titleData Analytics Lead                       1923732.3   913688.0   2.105\n",
       "job_titleData Analytics Manager                    1637121.8   697599.5   2.347\n",
       "job_titleData Architect                            1693381.6   682800.7   2.480\n",
       "job_titleData Engineer                             1656537.8   656285.2   2.524\n",
       "job_titleData Engineering Manager                  1647568.5   714552.8   2.306\n",
       "job_titleData Science Consultant                   1399040.2   695126.9   2.013\n",
       "job_titleData Science Engineer                     1560979.1   767918.9   2.033\n",
       "job_titleData Science Manager                      2426479.5   677408.1   3.582\n",
       "job_titleData Scientist                            1632474.7   654531.3   2.494\n",
       "job_titleData Specialist                           1683732.3   913688.0   1.843\n",
       "job_titleDirector of Data Engineering              1701542.1   796083.3   2.137\n",
       "job_titleDirector of Data Science                  1285481.8   700936.7   1.834\n",
       "job_titleETL Developer                             1569694.6   826117.6   1.900\n",
       "job_titleFinance Data Analyst                      1616245.3   917611.7   1.761\n",
       "job_titleFinancial Data Analyst                    1778429.0   794616.1   2.238\n",
       "job_titleHead of Data                              1744071.5   753178.4   2.316\n",
       "job_titleHead of Data Science                      1651740.4   739684.3   2.233\n",
       "job_titleHead of Machine Learning                  5600000.0   900849.8   6.216\n",
       "job_titleLead Data Analyst                         1458357.0   742899.1   1.963\n",
       "job_titleLead Data Engineer                        1656845.2   714108.9   2.320\n",
       "job_titleLead Data Scientist                       2004983.0   752888.2   2.663\n",
       "job_titleLead Machine Learning Engineer            1625872.1   922651.9   1.762\n",
       "job_titleMachine Learning Developer                1600996.9   805406.5   1.988\n",
       "job_titleMachine Learning Engineer                 1595546.8   660692.9   2.415\n",
       "job_titleMachine Learning Infrastructure Engineer  2125784.8   798832.7   2.661\n",
       "job_titleMachine Learning Manager                  1627390.4   922500.0   1.764\n",
       "job_titleMachine Learning Scientist                1309777.1   694912.9   1.885\n",
       "job_titleMarketing Data Analyst                    1454652.7  1043374.9   1.394\n",
       "job_titleML Engineer                               3407953.8   715178.3   4.765\n",
       "job_titleNLP Engineer                              1728125.8   913467.3   1.892\n",
       "job_titlePrincipal Data Analyst                    1632364.6   797275.7   2.047\n",
       "job_titlePrincipal Data Engineer                   1847065.6   751209.5   2.459\n",
       "job_titlePrincipal Data Scientist                  1754567.3   699080.7   2.510\n",
       "job_titleProduct Data Analyst                        80606.5   901575.0   0.089\n",
       "job_titleResearch Scientist                        1703334.0   677035.1   2.516\n",
       "job_titleStaff Data Scientist                      1623732.3   913688.0   1.777\n",
       "company_locationAS                                 1382572.6   801258.1   1.726\n",
       "company_locationAT                                   14314.8   515126.0   0.028\n",
       "company_locationAU                                  159761.3   554088.3   0.288\n",
       "company_locationBE                                  114079.8   596725.9   0.191\n",
       "company_locationBR                                   83839.5   587219.3   0.143\n",
       "company_locationCA                                  151432.9   422247.7   0.359\n",
       "company_locationCH                                  323155.3   620541.2   0.521\n",
       "company_locationCL                                30419955.2   754372.8  40.325\n",
       "company_locationCN                                  141276.5   605396.3   0.233\n",
       "company_locationCO                                   48120.6   747810.4   0.064\n",
       "company_locationCZ                                   -9106.7   633874.4  -0.014\n",
       "company_locationDE                                   45344.8   418100.8   0.108\n",
       "company_locationDK                                  272777.1   643701.6   0.424\n",
       "company_locationDZ                                   89348.7   754195.7   0.118\n",
       "company_locationEE                                  -61641.7   837774.0  -0.074\n",
       "company_locationES                                   85048.8   435312.4   0.195\n",
       "company_locationFR                                  -18638.1   435239.8  -0.043\n",
       "company_locationGB                                   50578.0   411402.2   0.123\n",
       "company_locationGR                                   71522.2   457293.9   0.156\n",
       "company_locationHN                                 1530610.4   996088.6   1.537\n",
       "company_locationHR                                   96883.1   747905.0   0.130\n",
       "company_locationHU                                10989348.7   754195.7  14.571\n",
       "company_locationIE                                  121883.1   747905.0   0.163\n",
       "company_locationIL                                  179955.2   754372.8   0.239\n",
       "company_locationIN                                 2021823.4   416749.5   4.851\n",
       "company_locationIQ                                  120826.4   887903.9   0.136\n",
       "company_locationIR                                    -107.9   754568.0   0.000\n",
       "company_locationIT                                   38912.6   597627.9   0.065\n",
       "company_locationJP                                 2914847.1   488529.9   5.967\n",
       "company_locationKE                                -2113145.2   805317.9  -2.624\n",
       "company_locationLU                                  115283.9   564879.7   0.204\n",
       "company_locationMD                                  155568.4   802855.7   0.194\n",
       "company_locationMT                                  -10714.4   754745.9  -0.014\n",
       "company_locationMX                                  274290.7   561783.5   0.488\n",
       "company_locationMY                                   59955.2   754372.8   0.079\n",
       "company_locationNG                                   70376.8   604303.7   0.116\n",
       "company_locationNL                                   40889.2   510044.0   0.080\n",
       "company_locationNZ                                   89978.2   805320.2   0.112\n",
       "company_locationPK                                  120721.3   562953.8   0.214\n",
       "company_locationPL                                  252419.6   511845.6   0.493\n",
       "company_locationPT                                 -676791.0   573112.5  -1.181\n",
       "company_locationRO                                  228174.9   800837.8   0.285\n",
       "company_locationRU                                   66114.2   661680.5   0.100\n",
       "company_locationSG                                   63091.1   986696.8   0.064\n",
       "company_locationSI                                   21317.5   625004.3   0.034\n",
       "company_locationTR                                  152640.0   545350.6   0.280\n",
       "company_locationUA                                   33355.2   754372.8   0.044\n",
       "company_locationUS                                  133697.6   400949.3   0.333\n",
       "company_locationVN                                  -37257.8   755750.2  -0.049\n",
       "remote_ratio                                          -612.1      723.1  -0.847\n",
       "                                                  Pr(>|t|)    \n",
       "(Intercept)                                       0.037438 *  \n",
       "job_titleAI Scientist                             0.024156 *  \n",
       "job_titleAnalytics Engineer                       0.022768 *  \n",
       "job_titleApplied Data Scientist                   0.018615 *  \n",
       "job_titleApplied Machine Learning Scientist       0.022632 *  \n",
       "job_titleBI Data Analyst                          1.85e-07 ***\n",
       "job_titleBig Data Architect                       0.084343 .  \n",
       "job_titleBig Data Engineer                        0.038254 *  \n",
       "job_titleBusiness Data Analyst                    0.037042 *  \n",
       "job_titleCloud Data Engineer                      0.066749 .  \n",
       "job_titleComputer Vision Engineer                 0.031912 *  \n",
       "job_titleComputer Vision Software Engineer        0.035006 *  \n",
       "job_titleData Analyst                             0.015810 *  \n",
       "job_titleData Analytics Engineer                  0.028894 *  \n",
       "job_titleData Analytics Lead                      0.035743 *  \n",
       "job_titleData Analytics Manager                   0.019320 *  \n",
       "job_titleData Architect                           0.013460 *  \n",
       "job_titleData Engineer                            0.011903 *  \n",
       "job_titleData Engineering Manager                 0.021528 *  \n",
       "job_titleData Science Consultant                  0.044681 *  \n",
       "job_titleData Science Engineer                    0.042599 *  \n",
       "job_titleData Science Manager                     0.000374 ***\n",
       "job_titleData Scientist                           0.012945 *  \n",
       "job_titleData Specialist                          0.065944 .  \n",
       "job_titleDirector of Data Engineering             0.033044 *  \n",
       "job_titleDirector of Data Science                 0.067248 .  \n",
       "job_titleETL Developer                            0.057989 .  \n",
       "job_titleFinance Data Analyst                     0.078780 .  \n",
       "job_titleFinancial Data Analyst                   0.025648 *  \n",
       "job_titleHead of Data                             0.020977 *  \n",
       "job_titleHead of Data Science                     0.025982 *  \n",
       "job_titleHead of Machine Learning                 1.06e-09 ***\n",
       "job_titleLead Data Analyst                        0.050185 .  \n",
       "job_titleLead Data Engineer                       0.020728 *  \n",
       "job_titleLead Data Scientist                      0.007990 ** \n",
       "job_titleLead Machine Learning Engineer           0.078643 .  \n",
       "job_titleMachine Learning Developer               0.047370 *  \n",
       "job_titleMachine Learning Engineer                0.016090 *  \n",
       "job_titleMachine Learning Infrastructure Engineer 0.008035 ** \n",
       "job_titleMachine Learning Manager                 0.078316 .  \n",
       "job_titleMachine Learning Scientist               0.060028 .  \n",
       "job_titleMarketing Data Analyst                   0.163874    \n",
       "job_titleML Engineer                              2.47e-06 ***\n",
       "job_titleNLP Engineer                             0.059083 .  \n",
       "job_titlePrincipal Data Analyst                   0.041131 *  \n",
       "job_titlePrincipal Data Engineer                  0.014274 *  \n",
       "job_titlePrincipal Data Scientist                 0.012390 *  \n",
       "job_titleProduct Data Analyst                     0.928794    \n",
       "job_titleResearch Scientist                       0.012182 *  \n",
       "job_titleStaff Data Scientist                     0.076148 .  \n",
       "company_locationAS                                0.085046 .  \n",
       "company_locationAT                                0.977841    \n",
       "company_locationAU                                0.773211    \n",
       "company_locationBE                                0.848464    \n",
       "company_locationBR                                0.886526    \n",
       "company_locationCA                                0.720017    \n",
       "company_locationCH                                0.602759    \n",
       "company_locationCL                                 < 2e-16 ***\n",
       "company_locationCN                                0.815575    \n",
       "company_locationCO                                0.948718    \n",
       "company_locationCZ                                0.988543    \n",
       "company_locationDE                                0.913678    \n",
       "company_locationDK                                0.671918    \n",
       "company_locationDZ                                0.905743    \n",
       "company_locationEE                                0.941375    \n",
       "company_locationES                                0.845178    \n",
       "company_locationFR                                0.965860    \n",
       "company_locationGB                                0.902203    \n",
       "company_locationGR                                0.875777    \n",
       "company_locationHN                                0.125010    \n",
       "company_locationHR                                0.896982    \n",
       "company_locationHU                                 < 2e-16 ***\n",
       "company_locationIE                                0.870610    \n",
       "company_locationIL                                0.811551    \n",
       "company_locationIN                                1.63e-06 ***\n",
       "company_locationIQ                                0.891812    \n",
       "company_locationIR                                0.999886    \n",
       "company_locationIT                                0.948111    \n",
       "company_locationJP                                4.55e-09 ***\n",
       "company_locationKE                                0.008953 ** \n",
       "company_locationLU                                0.838368    \n",
       "company_locationMD                                0.846435    \n",
       "company_locationMT                                0.988679    \n",
       "company_locationMX                                0.625584    \n",
       "company_locationMY                                0.936685    \n",
       "company_locationNG                                0.907335    \n",
       "company_locationNL                                0.936135    \n",
       "company_locationNZ                                0.911082    \n",
       "company_locationPK                                0.830288    \n",
       "company_locationPL                                0.622116    \n",
       "company_locationPT                                0.238194    \n",
       "company_locationRO                                0.775822    \n",
       "company_locationRU                                0.920448    \n",
       "company_locationSG                                0.949042    \n",
       "company_locationSI                                0.972805    \n",
       "company_locationTR                                0.779674    \n",
       "company_locationUA                                0.964750    \n",
       "company_locationUS                                0.738930    \n",
       "company_locationVN                                0.960700    \n",
       "remote_ratio                                      0.397657    \n",
       "---\n",
       "Signif. codes:  0 '***' 0.001 '**' 0.01 '*' 0.05 '.' 0.1 ' ' 1\n",
       "\n",
       "Residual standard error: 637000 on 507 degrees of freedom\n",
       "Multiple R-squared:  0.8577,\tAdjusted R-squared:  0.8299 \n",
       "F-statistic: 30.86 on 99 and 507 DF,  p-value: < 2.2e-16\n"
      ]
     },
     "metadata": {},
     "output_type": "display_data"
    }
   ],
   "source": [
    "summary(model)"
   ]
  },
  {
   "cell_type": "code",
   "execution_count": 8,
   "id": "85c550dd-be1e-49d8-b928-f97ad5834cc6",
   "metadata": {},
   "outputs": [],
   "source": [
    "remote_group <- cut(\n",
    "  ds_salaries$remote_ratio,\n",
    "  breaks = c(-Inf, 25, 50, 75, 100),\n",
    "  labels = c(\"0-25%\", \"26-50%\", \"51-75%\", \"76-100%\")\n",
    ")"
   ]
  },
  {
   "cell_type": "code",
   "execution_count": 9,
   "id": "52f61a69-2108-425e-ac13-a7bbe9eccf3c",
   "metadata": {},
   "outputs": [],
   "source": [
    "top_jobs <- ds_salaries %>%\n",
    "  group_by(job_title) %>%\n",
    "  summarise(avg_salary = mean(salary, na.rm = TRUE)) %>%\n",
    "  arrange(desc(avg_salary)) %>%\n",
    "  slice_head(n = 10) %>%\n",
    "  pull(job_title)\n",
    "\n",
    "filtered_data <- ds_salaries %>%\n",
    "  filter(job_title %in% top_jobs)"
   ]
  },
  {
   "cell_type": "markdown",
   "id": "737fb439-2274-45f5-8b4e-7d35203f45ed",
   "metadata": {},
   "source": [
    "There is too much data and it is too complex. After calculating the average salary, only the top ten job_titles are retained."
   ]
  },
  {
   "cell_type": "code",
   "execution_count": 10,
   "id": "590121ed-d63f-456f-a1fe-5023a4317226",
   "metadata": {},
   "outputs": [
    {
     "data": {
      "text/html": [
       "<style>\n",
       ".dl-inline {width: auto; margin:0; padding: 0}\n",
       ".dl-inline>dt, .dl-inline>dd {float: none; width: auto; display: inline-block}\n",
       ".dl-inline>dt::after {content: \":\\0020\"; padding-right: .5ex}\n",
       ".dl-inline>dt:not(:first-of-type) {padding-left: .5ex}\n",
       "</style><dl class=dl-inline><dt>0-25%</dt><dd>45</dd><dt>26-50%</dt><dd>36</dd><dt>51-75%</dt><dd>0</dd><dt>76-100%</dt><dd>103</dd></dl>\n"
      ],
      "text/latex": [
       "\\begin{description*}\n",
       "\\item[0-25\\textbackslash{}\\%] 45\n",
       "\\item[26-50\\textbackslash{}\\%] 36\n",
       "\\item[51-75\\textbackslash{}\\%] 0\n",
       "\\item[76-100\\textbackslash{}\\%] 103\n",
       "\\end{description*}\n"
      ],
      "text/markdown": [
       "0-25%\n",
       ":   4526-50%\n",
       ":   3651-75%\n",
       ":   076-100%\n",
       ":   103\n",
       "\n"
      ],
      "text/plain": [
       "  0-25%  26-50%  51-75% 76-100% \n",
       "     45      36       0     103 "
      ]
     },
     "metadata": {},
     "output_type": "display_data"
    }
   ],
   "source": [
    "filtered_data$remote_group <- cut(\n",
    "  filtered_data$remote_ratio,\n",
    "  breaks = c(-Inf, 25, 50, 75, 100),\n",
    "  labels = c(\"0-25%\", \"26-50%\", \"51-75%\", \"76-100%\")\n",
    ")\n",
    "\n",
    "summary(filtered_data$remote_group)"
   ]
  },
  {
   "cell_type": "code",
   "execution_count": 11,
   "id": "657ff5f0-01df-4701-b723-0e9ba066ff24",
   "metadata": {},
   "outputs": [
    {
     "data": {
      "text/plain": [
       "   Min. 1st Qu.  Median    Mean 3rd Qu.    Max. \n",
       "   0.00   50.00  100.00   65.76  100.00  100.00 "
      ]
     },
     "metadata": {},
     "output_type": "display_data"
    }
   ],
   "source": [
    "summary(filtered_data$remote_ratio)"
   ]
  },
  {
   "cell_type": "code",
   "execution_count": 12,
   "id": "a665aae6-3c98-4fe2-9d0d-270362fb9137",
   "metadata": {},
   "outputs": [
    {
     "data": {
      "image/png": "[encoded data removed]",
      "text/plain": [
       "plot without title"
      ]
     },
     "metadata": {
      "image/png": {
       "height": 420,
       "width": 420
      }
     },
     "output_type": "display_data"
    }
   ],
   "source": [
    "ggplot(filtered_data, aes(x = reorder(job_title, -salary), y = salary, color = remote_ratio)) +\n",
    "  geom_point(size = 3, alpha = 0.7) +\n",
    "  scale_color_gradient(low = \"lightblue\", high = \"darkblue\", name = \"Remote Work %\") +\n",
    "  scale_y_continuous(labels = scales::label_comma()) +\n",
    "  labs(\n",
    "    title = \"Top Job Titles: Impact on Salary\",\n",
    "    x = \"Job Title\",\n",
    "    y = \"Salary\"\n",
    "  ) +\n",
    "  theme_minimal() +\n",
    "  theme(\n",
    "    axis.text.x = element_text(angle = 45, hjust = 1),\n",
    "    plot.title = element_text(size = 14, face = \"bold\")\n",
    "  )"
   ]
  },
  {
   "cell_type": "markdown",
   "id": "06bc533d-e15a-4843-a3ba-556451601189",
   "metadata": {},
   "source": [
    "This plot shows the distribution of salaries across different job titles and the variation in remote work percentage. High-paying roles, such as \"Head of Machine Learning,\" tend to be associated with higher remote work percentages, while lower-paying roles have a more evenly distributed remote work percentage. There are some extremely high salary outliers (e.g., above 20,000,000), which require further validation for accuracy. Overall, the plot highlights a potential correlation between higher remote work percentages and high-paying job titles, providing insights into factors affecting salaries."
   ]
  },
  {
   "cell_type": "code",
   "execution_count": 13,
   "id": "aec3c3e8-ec8d-4eae-a070-4661b9fa1185",
   "metadata": {},
   "outputs": [],
   "source": [
    "ds_salaries <- ds_salaries %>%\n",
    "  mutate(\n",
    "    company_location = as.factor(company_location),\n",
    "    job_title = as.factor(job_title)\n",
    "  )"
   ]
  },
  {
   "cell_type": "code",
   "execution_count": 14,
   "id": "a2b911a6-4f64-4989-a610-113ba2a3645c",
   "metadata": {},
   "outputs": [],
   "source": [
    "X <- model.matrix(~ company_location + job_title + remote_ratio - 1, data = ds_salaries)\n",
    "Y <- ds_salaries$salary_in_usd\n",
    "impute_with_mean <- function(data_matrix) {\n",
    "  for (i in 1:ncol(data_matrix)) {\n",
    "    if (any(is.na(data_matrix[, i]))) {\n",
    "      data_matrix[is.na(data_matrix[, i]), i] <- mean(data_matrix[, i], na.rm = TRUE)\n",
    "    }\n",
    "  }\n",
    "  return(data_matrix)\n",
    "}\n",
    "X <- impute_with_mean(X)"
   ]
  },
  {
   "cell_type": "code",
   "execution_count": 15,
   "id": "d0deadba-a368-4bd8-80dd-8c39d3de3458",
   "metadata": {},
   "outputs": [],
   "source": [
    "set.seed(123)\n",
    "data_split <- initial_split(data.frame(X, Y), prop = 0.8)\n",
    "train_data <- training(data_split)\n",
    "test_data <- testing(data_split)"
   ]
  },
  {
   "cell_type": "code",
   "execution_count": 16,
   "id": "a80595b2-7735-40f9-a1c6-a85dfcc29be6",
   "metadata": {},
   "outputs": [],
   "source": [
    "train_x <- as.matrix(train_data[, -ncol(train_data)])\n",
    "train_y <- train_data[, ncol(train_data)] \n",
    "test_x <- as.matrix(test_data[, -ncol(test_data)])\n",
    "test_y <- test_data[, ncol(test_data)]"
   ]
  },
  {
   "cell_type": "code",
   "execution_count": 17,
   "id": "f2b97dcb-f30c-413b-9578-84c1da24926d",
   "metadata": {},
   "outputs": [
    {
     "name": "stdout",
     "output_type": "stream",
     "text": [
      "[1] 0\n",
      "[1] 0\n",
      "[1] 0\n"
     ]
    }
   ],
   "source": [
    "print(sum(is.na(X)))\n",
    "print(sum(is.na(train_x))) \n",
    "print(sum(is.na(test_x)))"
   ]
  },
  {
   "cell_type": "code",
   "execution_count": 18,
   "id": "62294dba-ac5c-4bf6-96f7-5aa295a47662",
   "metadata": {},
   "outputs": [],
   "source": [
    "ridge_model <- cv.glmnet(train_x, train_y, alpha = 0, family = \"gaussian\")"
   ]
  },
  {
   "cell_type": "code",
   "execution_count": 19,
   "id": "c20c8641-a079-42f0-87f8-6bf9d51577ed",
   "metadata": {},
   "outputs": [
    {
     "name": "stdout",
     "output_type": "stream",
     "text": [
      "[1] \"Optimal Lambda: 21223.796766718\"\n"
     ]
    }
   ],
   "source": [
    "optimal_lambda <- ridge_model$lambda.min\n",
    "print(paste(\"Optimal Lambda:\", optimal_lambda))\n"
   ]
  },
  {
   "cell_type": "code",
   "execution_count": 22,
   "id": "58bfdd0e-c953-44c9-b75a-e6a249a5b7f4",
   "metadata": {},
   "outputs": [
    {
     "name": "stdout",
     "output_type": "stream",
     "text": [
      "[1] \"RMSE of the Ridge model: 58062.1\"\n",
      "[1] \"Mean of target variable: 112159.597938144\"\n",
      "[1] \"Standard deviation of target variable: 72140.059726308\"\n",
      "[1] \"RMSE as a percentage of the mean: 51.7673913668305 %\"\n"
     ]
    }
   ],
   "source": [
    "ridge_predictions <- predict(ridge_model, s = optimal_lambda, newx = test_x)\n",
    "\n",
    "rmse <- sqrt(mean((ridge_predictions - test_y)^2))\n",
    "print(paste(\"RMSE of the Ridge model:\", round(rmse, 2)))\n",
    "mean_salary <- mean(train_y, na.rm = TRUE)\n",
    "sd_salary <- sd(train_y, na.rm = TRUE)\n",
    "\n",
    "print(paste(\"Mean of target variable:\", mean_salary))\n",
    "print(paste(\"Standard deviation of target variable:\", sd_salary))\n",
    "print(paste(\"RMSE as a percentage of the mean:\", (rmse / mean_salary) * 100, \"%\"))"
   ]
  },
  {
   "cell_type": "code",
   "execution_count": 23,
   "id": "c69921cd-0b23-4bd9-a3c5-ea429879b2da",
   "metadata": {},
   "outputs": [],
   "source": [
    "lasso_model <- cv.glmnet(\n",
    "  x = train_x, \n",
    "  y = train_y, \n",
    "  alpha = 1, \n",
    "  family = \"gaussian\"  \n",
    ")"
   ]
  },
  {
   "cell_type": "code",
   "execution_count": 24,
   "id": "462e32f8-1c2e-4b18-a8a4-13a892c17d72",
   "metadata": {},
   "outputs": [
    {
     "name": "stdout",
     "output_type": "stream",
     "text": [
      "[1] \"Optimal Lambda: 2678.13940348775\"\n"
     ]
    }
   ],
   "source": [
    "optimal_lambda <- lasso_model$lambda.min\n",
    "print(paste(\"Optimal Lambda:\", optimal_lambda))"
   ]
  },
  {
   "cell_type": "code",
   "execution_count": 25,
   "id": "b4ddae51-5726-49f8-a776-6e79ec2560d2",
   "metadata": {},
   "outputs": [
    {
     "name": "stdout",
     "output_type": "stream",
     "text": [
      "[1] \"RMSE of the Lasso model: 56172.33\"\n"
     ]
    }
   ],
   "source": [
    "lasso_predictions <- predict(lasso_model, s = optimal_lambda, newx = test_x)\n",
    "\n",
    "rmse <- sqrt(mean((lasso_predictions - test_y)^2))\n",
    "print(paste(\"RMSE of the Lasso model:\", round(rmse, 2)))"
   ]
  },
  {
   "cell_type": "code",
   "execution_count": 39,
   "id": "04c3e2d4-1ba0-4723-ab13-d8b7106e9bcc",
   "metadata": {},
   "outputs": [],
   "source": [
    "selected_features <- ds_salaries[, c(\"company_location\", \"job_title\", \"remote_ratio\", \"salary_in_usd\")]\n",
    "\n",
    "selected_features$company_location <- as.numeric(as.factor(selected_features$company_location))\n",
    "selected_features$job_title <- as.numeric(as.factor(selected_features$job_title))\n"
   ]
  },
  {
   "cell_type": "code",
   "execution_count": 40,
   "id": "0b1b8f9d-69fd-4e9a-96f3-4a70e50117af",
   "metadata": {},
   "outputs": [],
   "source": [
    "correlation_matrix <- cor(selected_features, use = \"pairwise.complete.obs\")\n",
    "\n",
    "correlation_melted <- as.data.frame(as.table(correlation_matrix))\n",
    "colnames(correlation_melted) <- c(\"Var1\", \"Var2\", \"value\")"
   ]
  },
  {
   "cell_type": "code",
   "execution_count": 41,
   "id": "9feb73ca-8d04-4c80-aab3-2ef06000f70a",
   "metadata": {},
   "outputs": [
    {
     "data": {
      "image/png": "[encoded data removed]",
      "text/plain": [
       "plot without title"
      ]
     },
     "metadata": {
      "image/png": {
       "height": 420,
       "width": 420
      }
     },
     "output_type": "display_data"
    }
   ],
   "source": [
    "ggplot(data = correlation_melted, aes(x = Var1, y = Var2, fill = value)) +\n",
    "  geom_tile(color = \"white\") +\n",
    "  scale_fill_gradient2(low = \"blue\", high = \"red\", mid = \"white\", \n",
    "                       midpoint = 0, limit = c(-1, 1), space = \"Lab\",\n",
    "                       name = \"Correlation\") +\n",
    "  theme_minimal() +\n",
    "  theme(axis.text.x = element_text(angle = 45, hjust = 1)) +\n",
    "  labs(title = \"Correlation Heatmap Including Target Variable\",\n",
    "       x = \"Features\",\n",
    "       y = \"Features\")"
   ]
  },
  {
   "cell_type": "markdown",
   "id": "fca9f709-4a1f-4056-be3a-f913f87b2fd9",
   "metadata": {},
   "source": [
    "The variable salary_in_usd shows some positive correlation only with company_location and has low correlation with the other two features. Additionally, both Ridge and Lasso regularization resulted in high RMSE values, indicating that the model is not able to effectively predict salary_in_usd based on company_location, job_title, and remote_ratio. This suggests that these three features may not have a linear relationship with the target variable."
   ]
  },
  {
   "cell_type": "markdown",
   "id": "9ecc5453-53d6-4a15-a37d-44367e6b2877",
   "metadata": {},
   "source": [
    "# Conclusion"
   ]
  },
  {
   "cell_type": "markdown",
   "id": "47ad65ea-a248-4de6-908a-deaff98ce415",
   "metadata": {},
   "source": [
    "The heatmap demonstrates that the linear relationships between the features (company_location, job_title, remote_ratio) and the target variable (salary_in_usd) are not significant. The correlation values are relatively weak, with salary_in_usd showing only a mild positive correlation with company_location and very low correlations with the other two features.\n",
    "\n",
    "Moreover, the results from both Lasso and Ridge regularization yield RMSE values that are excessively high relative to the mean and standard deviation of salary_in_usd. This indicates that the models fail to make accurate predictions of the target variable using the selected features. These findings suggest that company_location, job_title, and remote_ratio may not have sufficient predictive power or linear relationships with salary_in_usd. Other features or nonlinear methods might be required to improve the predictive performance for this dataset."
   ]
  },
  {
   "cell_type": "code",
   "execution_count": null,
   "id": "51bf0790-c18d-494c-b84a-955432022fb8",
   "metadata": {},
   "outputs": [],
   "source": []
  }
 ],
 "metadata": {
  "kernelspec": {
   "display_name": "R",
   "language": "R",
   "name": "ir"
  },
  "language_info": {
   "codemirror_mode": "r",
   "file_extension": ".r",
   "mimetype": "text/x-r-source",
   "name": "R",
   "pygments_lexer": "r",
   "version": "4.4.2"
  }
 },
 "nbformat": 4,
 "nbformat_minor": 5
}
